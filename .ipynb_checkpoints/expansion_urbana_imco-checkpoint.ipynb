{
 "cells": [
  {
   "cell_type": "markdown",
   "metadata": {},
   "source": [
    "Investigación sobre los factores que influyen en la expansión urbana en México\n",
    "\n",
    "Análisis de los datos para 135 ciudades para analizar las siguientes correlaciones:\n",
    "\n",
    "- ¿Existe una correlación entre los subsidios federales y la expansión urbana?\n",
    "- ¿Existe una correlación entre la tasa de motorización y la expansión urbana?\n",
    "- ¿Existe una correlación entre aumento en el ingreso y la expansión urbana?\n",
    "- ¿Existe una correlación entre restricciones a la densidad y la expansión urbana?\n",
    "- ¿Existe una correlación entre el decrecimiento del tamaño familiar y la expansión urbana?\n",
    "\n",
    "Datos históricos: 1980, 2000, 2005 y 2010\n",
    "\n",
    "Objetivo: analizar la tendencia histórica lo más posible. \n",
    "\n",
    "\n",
    "El análisis nos permitirá no es solo comprobar la correlación sino identificar que tan poderosas son las variables sobre las que sí podemos tener control: __subsidios federales y restricciones a la densidad. "
   ]
  },
  {
   "cell_type": "code",
   "execution_count": 1,
   "metadata": {
    "collapsed": false
   },
   "outputs": [
    {
     "name": "stdout",
     "output_type": "stream",
     "text": [
      "Populating the interactive namespace from numpy and matplotlib\n"
     ]
    }
   ],
   "source": [
    "from __future__ import print_function\n",
    "__author__ = 'mo'\n",
    "import pylab as pl\n",
    "import numpy as np\n",
    "%pylab inline\n",
    "\n",
    "import matplotlib.pyplot as plt\n",
    "%matplotlib inline\n",
    "\n",
    "import pandas as pd\n",
    "import geopandas as gp\n",
    "import json\n",
    "\n",
    "import statsmodels.formula.api as smf\n",
    "from statsmodels.graphics.api import abline_plot \n",
    "\n",
    "\n",
    "import sklearn.cluster\n",
    "from sklearn import mixture\n",
    "from PIL import Image\n",
    "from scipy.misc import imread\n",
    "from scipy.cluster.vq import kmeans2\n",
    "#import mplleaflet\n",
    "#import shapely.geometry as geom\n",
    "import networkx as nx\n",
    "import xlrd"
   ]
  },
  {
   "cell_type": "code",
   "execution_count": 2,
   "metadata": {
    "collapsed": false
   },
   "outputs": [],
   "source": [
    "imco = pd.read_csv('imco_2012.csv')"
   ]
  },
  {
   "cell_type": "code",
   "execution_count": 5,
   "metadata": {
    "collapsed": false
   },
   "outputs": [
    {
     "data": {
      "text/plain": [
       "Index([u'1', u'2', u'3', u'tierra_ejidal_2012', u'34', u'viv_dren_2012',\n",
       "       u'viv_piso_2012', u'viv_des_2012', u'povline_2012', u'gini_2012',\n",
       "       u'pobocu_2012', u'emp_form_2012', u'crec_mancha_2012', u'den_2012',\n",
       "       u'sal_men_2012', u'prod_trab_2012', u'pobocusin_2012',\n",
       "       u'crec_pobocusin_2012', u'merc_hip_2012', u'cartera_vencida_2012',\n",
       "       u'pib_sector_2012', u'pib _state_2012', u'crec_sal_2012',\n",
       "       u'num_sec_2012', u'unemp_2012', u'transp_2012', u'carre_2012',\n",
       "       u'fdi_2012', u'fronterano_2012', u'inv_pea_2012', u'hab_2012',\n",
       "       u'pobocup_2012', u'pea_2012', u'vivhab_2012', u'pib_2012',\n",
       "       u'areakm_2012', u'autos_2012', u'tam_cd_2012', u'region',\n",
       "       u'vivtot_2012'],\n",
       "      dtype='object')"
      ]
     },
     "execution_count": 5,
     "metadata": {},
     "output_type": "execute_result"
    }
   ],
   "source": [
    "imco.columns"
   ]
  },
  {
   "cell_type": "code",
   "execution_count": 17,
   "metadata": {
    "collapsed": false
   },
   "outputs": [
    {
     "data": {
      "text/plain": [
       "78"
      ]
     },
     "execution_count": 17,
     "metadata": {},
     "output_type": "execute_result"
    }
   ],
   "source": [
    "#setting up columns as variables to look at\n",
    "areakm2012 = imco.areakm_2012\n",
    "den2012 = imco.den_2012\n",
    "pib2012 = imco.pib_2012\n",
    "autos2012 = imco.autos_2012\n",
    "pea2012 = imco.pea_2012\n",
    "prod2012 = imco.prod_trab_2012\n",
    "unem2012 = imco.unemp_2012\n",
    "tamcd2012 = imco.tam_cd_2012\n"
   ]
  },
  {
   "cell_type": "code",
   "execution_count": 12,
   "metadata": {
    "collapsed": false
   },
   "outputs": [
    {
     "name": "stdout",
     "output_type": "stream",
     "text": [
      "                            OLS Regression Results                            \n",
      "==============================================================================\n",
      "Dep. Variable:             areakm2012   R-squared:                       0.022\n",
      "Model:                            OLS   Adj. R-squared:                 -0.032\n",
      "Method:                 Least Squares   F-statistic:                    0.4011\n",
      "Date:                Wed, 13 Apr 2016   Prob (F-statistic):              0.807\n",
      "Time:                        18:54:11   Log-Likelihood:                -798.28\n",
      "No. Observations:                  78   AIC:                             1607.\n",
      "Df Residuals:                      73   BIC:                             1618.\n",
      "Df Model:                           4                                         \n",
      "Covariance Type:            nonrobust                                         \n",
      "==============================================================================\n",
      "                 coef    std err          t      P>|t|      [95.0% Conf. Int.]\n",
      "------------------------------------------------------------------------------\n",
      "Intercept   2016.4180   2577.037      0.782      0.436     -3119.609  7152.445\n",
      "pib2012     2.015e-06   7.75e-06      0.260      0.795     -1.34e-05  1.75e-05\n",
      "prod2012       4.7472      6.530      0.727      0.470        -8.267    17.761\n",
      "unem2012    2.025e+04   5.04e+04      0.402      0.689     -8.02e+04  1.21e+05\n",
      "pea2012       -0.0005      0.003     -0.158      0.875        -0.006     0.005\n",
      "==============================================================================\n",
      "Omnibus:                      122.523   Durbin-Watson:                   1.655\n",
      "Prob(Omnibus):                  0.000   Jarque-Bera (JB):             3978.028\n",
      "Skew:                           5.214   Prob(JB):                         0.00\n",
      "Kurtosis:                      36.396   Cond. No.                     3.02e+10\n",
      "==============================================================================\n",
      "\n",
      "Warnings:\n",
      "[1] Standard Errors assume that the covariance matrix of the errors is correctly specified.\n",
      "[2] The condition number is large, 3.02e+10. This might indicate that there are\n",
      "strong multicollinearity or other numerical problems.\n"
     ]
    }
   ],
   "source": [
    "#Informal Economy, GDP pc\n",
    "d = {'areakm2012' : areakm2012, 'den2012': den2012, 'pib2012': pib2012,  'prod2012' : prod2012, 'unem2012' : unem2012,\n",
    "      'pea2012' : pea2012}\n",
    "# Run regression and print summary\n",
    "mod = smf.ols(formula='areakm2012 ~ pib2012 + prod2012 + unem2012 + pea2012', data = d).fit()\n",
    "print(mod.summary())"
   ]
  },
  {
   "cell_type": "code",
   "execution_count": 18,
   "metadata": {
    "collapsed": false
   },
   "outputs": [
    {
     "ename": "ValueError",
     "evalue": "shapes (78,4) and (78,4) not aligned: 4 (dim 1) != 78 (dim 0)",
     "output_type": "error",
     "traceback": [
      "\u001b[0;31m---------------------------------------------------------------------------\u001b[0m",
      "\u001b[0;31mValueError\u001b[0m                                Traceback (most recent call last)",
      "\u001b[0;32m<ipython-input-18-1ed5ccb75d7d>\u001b[0m in \u001b[0;36m<module>\u001b[0;34m()\u001b[0m\n\u001b[1;32m      3\u001b[0m \u001b[0;31m# Run regression and print summary\u001b[0m\u001b[0;34m\u001b[0m\u001b[0;34m\u001b[0m\u001b[0m\n\u001b[1;32m      4\u001b[0m \u001b[0mmod\u001b[0m \u001b[0;34m=\u001b[0m \u001b[0msmf\u001b[0m\u001b[0;34m.\u001b[0m\u001b[0mols\u001b[0m\u001b[0;34m(\u001b[0m\u001b[0mformula\u001b[0m\u001b[0;34m=\u001b[0m\u001b[0;34m'tamcd2012 ~ pib2012 + prod2012 + unem2012 + pea2012'\u001b[0m\u001b[0;34m,\u001b[0m \u001b[0mdata\u001b[0m \u001b[0;34m=\u001b[0m \u001b[0md\u001b[0m\u001b[0;34m)\u001b[0m\u001b[0;34m.\u001b[0m\u001b[0mfit\u001b[0m\u001b[0;34m(\u001b[0m\u001b[0;34m)\u001b[0m\u001b[0;34m\u001b[0m\u001b[0m\n\u001b[0;32m----> 5\u001b[0;31m \u001b[0;32mprint\u001b[0m\u001b[0;34m(\u001b[0m\u001b[0mmod\u001b[0m\u001b[0;34m.\u001b[0m\u001b[0msummary\u001b[0m\u001b[0;34m(\u001b[0m\u001b[0;34m)\u001b[0m\u001b[0;34m)\u001b[0m\u001b[0;34m\u001b[0m\u001b[0m\n\u001b[0m",
      "\u001b[0;32m/Users/mariaortiz/anaconda/lib/python2.7/site-packages/statsmodels/regression/linear_model.pyc\u001b[0m in \u001b[0;36msummary\u001b[0;34m(self, yname, xname, title, alpha)\u001b[0m\n\u001b[1;32m   1948\u001b[0m             \u001b[0mtop_left\u001b[0m\u001b[0;34m.\u001b[0m\u001b[0mappend\u001b[0m\u001b[0;34m(\u001b[0m\u001b[0;34m(\u001b[0m\u001b[0;34m'Covariance Type:'\u001b[0m\u001b[0;34m,\u001b[0m \u001b[0;34m[\u001b[0m\u001b[0mself\u001b[0m\u001b[0;34m.\u001b[0m\u001b[0mcov_type\u001b[0m\u001b[0;34m]\u001b[0m\u001b[0;34m)\u001b[0m\u001b[0;34m)\u001b[0m\u001b[0;34m\u001b[0m\u001b[0m\n\u001b[1;32m   1949\u001b[0m \u001b[0;34m\u001b[0m\u001b[0m\n\u001b[0;32m-> 1950\u001b[0;31m         top_right = [('R-squared:', [\"%#8.3f\" % self.rsquared]),\n\u001b[0m\u001b[1;32m   1951\u001b[0m                      \u001b[0;34m(\u001b[0m\u001b[0;34m'Adj. R-squared:'\u001b[0m\u001b[0;34m,\u001b[0m \u001b[0;34m[\u001b[0m\u001b[0;34m\"%#8.3f\"\u001b[0m \u001b[0;34m%\u001b[0m \u001b[0mself\u001b[0m\u001b[0;34m.\u001b[0m\u001b[0mrsquared_adj\u001b[0m\u001b[0;34m]\u001b[0m\u001b[0;34m)\u001b[0m\u001b[0;34m,\u001b[0m\u001b[0;34m\u001b[0m\u001b[0m\n\u001b[1;32m   1952\u001b[0m                      \u001b[0;34m(\u001b[0m\u001b[0;34m'F-statistic:'\u001b[0m\u001b[0;34m,\u001b[0m \u001b[0;34m[\u001b[0m\u001b[0;34m\"%#8.4g\"\u001b[0m \u001b[0;34m%\u001b[0m \u001b[0mself\u001b[0m\u001b[0;34m.\u001b[0m\u001b[0mfvalue\u001b[0m\u001b[0;34m]\u001b[0m \u001b[0;34m)\u001b[0m\u001b[0;34m,\u001b[0m\u001b[0;34m\u001b[0m\u001b[0m\n",
      "\u001b[0;32m/Users/mariaortiz/anaconda/lib/python2.7/site-packages/statsmodels/tools/decorators.pyc\u001b[0m in \u001b[0;36m__get__\u001b[0;34m(self, obj, type)\u001b[0m\n\u001b[1;32m     92\u001b[0m         \u001b[0;32mif\u001b[0m \u001b[0m_cachedval\u001b[0m \u001b[0;32mis\u001b[0m \u001b[0mNone\u001b[0m\u001b[0;34m:\u001b[0m\u001b[0;34m\u001b[0m\u001b[0m\n\u001b[1;32m     93\u001b[0m             \u001b[0;31m# Call the \"fget\" function\u001b[0m\u001b[0;34m\u001b[0m\u001b[0;34m\u001b[0m\u001b[0m\n\u001b[0;32m---> 94\u001b[0;31m             \u001b[0m_cachedval\u001b[0m \u001b[0;34m=\u001b[0m \u001b[0mself\u001b[0m\u001b[0;34m.\u001b[0m\u001b[0mfget\u001b[0m\u001b[0;34m(\u001b[0m\u001b[0mobj\u001b[0m\u001b[0;34m)\u001b[0m\u001b[0;34m\u001b[0m\u001b[0m\n\u001b[0m\u001b[1;32m     95\u001b[0m             \u001b[0;31m# Set the attribute in obj\u001b[0m\u001b[0;34m\u001b[0m\u001b[0;34m\u001b[0m\u001b[0m\n\u001b[1;32m     96\u001b[0m \u001b[0;31m#            print(\"Setting %s in cache to %s\" % (name, _cachedval))\u001b[0m\u001b[0;34m\u001b[0m\u001b[0;34m\u001b[0m\u001b[0m\n",
      "\u001b[0;32m/Users/mariaortiz/anaconda/lib/python2.7/site-packages/statsmodels/regression/linear_model.pyc\u001b[0m in \u001b[0;36mrsquared\u001b[0;34m(self)\u001b[0m\n\u001b[1;32m   1179\u001b[0m     \u001b[0;32mdef\u001b[0m \u001b[0mrsquared\u001b[0m\u001b[0;34m(\u001b[0m\u001b[0mself\u001b[0m\u001b[0;34m)\u001b[0m\u001b[0;34m:\u001b[0m\u001b[0;34m\u001b[0m\u001b[0m\n\u001b[1;32m   1180\u001b[0m         \u001b[0;32mif\u001b[0m \u001b[0mself\u001b[0m\u001b[0;34m.\u001b[0m\u001b[0mk_constant\u001b[0m\u001b[0;34m:\u001b[0m\u001b[0;34m\u001b[0m\u001b[0m\n\u001b[0;32m-> 1181\u001b[0;31m             \u001b[0;32mreturn\u001b[0m \u001b[0;36m1\u001b[0m \u001b[0;34m-\u001b[0m \u001b[0mself\u001b[0m\u001b[0;34m.\u001b[0m\u001b[0mssr\u001b[0m\u001b[0;34m/\u001b[0m\u001b[0mself\u001b[0m\u001b[0;34m.\u001b[0m\u001b[0mcentered_tss\u001b[0m\u001b[0;34m\u001b[0m\u001b[0m\n\u001b[0m\u001b[1;32m   1182\u001b[0m         \u001b[0;32melse\u001b[0m\u001b[0;34m:\u001b[0m\u001b[0;34m\u001b[0m\u001b[0m\n\u001b[1;32m   1183\u001b[0m             \u001b[0;32mreturn\u001b[0m \u001b[0;36m1\u001b[0m \u001b[0;34m-\u001b[0m \u001b[0mself\u001b[0m\u001b[0;34m.\u001b[0m\u001b[0mssr\u001b[0m\u001b[0;34m/\u001b[0m\u001b[0mself\u001b[0m\u001b[0;34m.\u001b[0m\u001b[0muncentered_tss\u001b[0m\u001b[0;34m\u001b[0m\u001b[0m\n",
      "\u001b[0;32m/Users/mariaortiz/anaconda/lib/python2.7/site-packages/statsmodels/tools/decorators.pyc\u001b[0m in \u001b[0;36m__get__\u001b[0;34m(self, obj, type)\u001b[0m\n\u001b[1;32m     92\u001b[0m         \u001b[0;32mif\u001b[0m \u001b[0m_cachedval\u001b[0m \u001b[0;32mis\u001b[0m \u001b[0mNone\u001b[0m\u001b[0;34m:\u001b[0m\u001b[0;34m\u001b[0m\u001b[0m\n\u001b[1;32m     93\u001b[0m             \u001b[0;31m# Call the \"fget\" function\u001b[0m\u001b[0;34m\u001b[0m\u001b[0;34m\u001b[0m\u001b[0m\n\u001b[0;32m---> 94\u001b[0;31m             \u001b[0m_cachedval\u001b[0m \u001b[0;34m=\u001b[0m \u001b[0mself\u001b[0m\u001b[0;34m.\u001b[0m\u001b[0mfget\u001b[0m\u001b[0;34m(\u001b[0m\u001b[0mobj\u001b[0m\u001b[0;34m)\u001b[0m\u001b[0;34m\u001b[0m\u001b[0m\n\u001b[0m\u001b[1;32m     95\u001b[0m             \u001b[0;31m# Set the attribute in obj\u001b[0m\u001b[0;34m\u001b[0m\u001b[0;34m\u001b[0m\u001b[0m\n\u001b[1;32m     96\u001b[0m \u001b[0;31m#            print(\"Setting %s in cache to %s\" % (name, _cachedval))\u001b[0m\u001b[0;34m\u001b[0m\u001b[0;34m\u001b[0m\u001b[0m\n",
      "\u001b[0;32m/Users/mariaortiz/anaconda/lib/python2.7/site-packages/statsmodels/regression/linear_model.pyc\u001b[0m in \u001b[0;36mssr\u001b[0;34m(self)\u001b[0m\n\u001b[1;32m   1151\u001b[0m     \u001b[0;32mdef\u001b[0m \u001b[0mssr\u001b[0m\u001b[0;34m(\u001b[0m\u001b[0mself\u001b[0m\u001b[0;34m)\u001b[0m\u001b[0;34m:\u001b[0m\u001b[0;34m\u001b[0m\u001b[0m\n\u001b[1;32m   1152\u001b[0m         \u001b[0mwresid\u001b[0m \u001b[0;34m=\u001b[0m \u001b[0mself\u001b[0m\u001b[0;34m.\u001b[0m\u001b[0mwresid\u001b[0m\u001b[0;34m\u001b[0m\u001b[0m\n\u001b[0;32m-> 1153\u001b[0;31m         \u001b[0;32mreturn\u001b[0m \u001b[0mnp\u001b[0m\u001b[0;34m.\u001b[0m\u001b[0mdot\u001b[0m\u001b[0;34m(\u001b[0m\u001b[0mwresid\u001b[0m\u001b[0;34m,\u001b[0m \u001b[0mwresid\u001b[0m\u001b[0;34m)\u001b[0m\u001b[0;34m\u001b[0m\u001b[0m\n\u001b[0m\u001b[1;32m   1154\u001b[0m \u001b[0;34m\u001b[0m\u001b[0m\n\u001b[1;32m   1155\u001b[0m     \u001b[0;34m@\u001b[0m\u001b[0mcache_readonly\u001b[0m\u001b[0;34m\u001b[0m\u001b[0m\n",
      "\u001b[0;31mValueError\u001b[0m: shapes (78,4) and (78,4) not aligned: 4 (dim 1) != 78 (dim 0)"
     ]
    }
   ],
   "source": [
    "d = {'tamcd2012' : tamcd2012, 'den2012': den2012, 'pib2012': pib2012,  'prod2012' : prod2012, 'unem2012' : unem2012,\n",
    "      'pea2012' : pea2012}\n",
    "# Run regression and print summary\n",
    "mod = smf.ols(formula='tamcd2012 ~ pib2012 + prod2012 + unem2012 + pea2012', data = d).fit()\n",
    "print(mod.summary())"
   ]
  },
  {
   "cell_type": "markdown",
   "metadata": {},
   "source": [
    "# Exploratory analysis"
   ]
  },
  {
   "cell_type": "code",
   "execution_count": 88,
   "metadata": {
    "collapsed": false
   },
   "outputs": [
    {
     "name": "stdout",
     "output_type": "stream",
     "text": [
      "area 2010 min 841\n",
      "area 2010 max 185291\n"
     ]
    }
   ],
   "source": [
    "print(\"area 2010 min\", area2010.min())\n",
    "print(\"area 2010 max\", area2010.max())"
   ]
  },
  {
   "cell_type": "code",
   "execution_count": 84,
   "metadata": {
    "collapsed": false
   },
   "outputs": [
    {
     "data": {
      "text/plain": [
       "<matplotlib.axes._subplots.AxesSubplot at 0x124a971d0>"
      ]
     },
     "execution_count": 84,
     "metadata": {},
     "output_type": "execute_result"
    },
    {
     "data": {
      "text/plain": [
       "<matplotlib.figure.Figure at 0x124cc22d0>"
      ]
     },
     "metadata": {},
     "output_type": "display_data"
    },
    {
     "data": {
      "image/png": "[encoded data removed]",
      "text/plain": [
       "<matplotlib.figure.Figure at 0x122583490>"
      ]
     },
     "metadata": {},
     "output_type": "display_data"
    }
   ],
   "source": [
    "fig = pl.figure(figsize=(10,10))\n",
    "bins = np.arange(800, 70000, 2500)\n",
    "area2010s = area2010.drop([19])\n",
    "area2010s.size\n",
    "area2010s.groupby(pd.cut(area2010s, bins)).agg([count_nonzero]).plot(kind='bar')\n"
   ]
  },
  {
   "cell_type": "code",
   "execution_count": 97,
   "metadata": {
    "collapsed": false
   },
   "outputs": [
    {
     "name": "stdout",
     "output_type": "stream",
     "text": [
      "area 2005 min 689\n",
      "area 2005 max 174616\n",
      "area 2005 max sin ZMVM 63018\n"
     ]
    }
   ],
   "source": [
    "print(\"area 2005 min\", area2005.min())\n",
    "print(\"area 2005 max\", area2005.max())\n",
    "area2005s = area2010.drop([19])\n",
    "print(\"area 2005 max sin ZMVM\", area2005s.max())\n"
   ]
  },
  {
   "cell_type": "code",
   "execution_count": 98,
   "metadata": {
    "collapsed": false
   },
   "outputs": [
    {
     "data": {
      "text/plain": [
       "<matplotlib.axes._subplots.AxesSubplot at 0x125419790>"
      ]
     },
     "execution_count": 98,
     "metadata": {},
     "output_type": "execute_result"
    },
    {
     "data": {
      "text/plain": [
       "<matplotlib.figure.Figure at 0x12540a850>"
      ]
     },
     "metadata": {},
     "output_type": "display_data"
    },
    {
     "data": {
      "image/png": "[encoded data removed]",
      "text/plain": [
       "<matplotlib.figure.Figure at 0x122dcd810>"
      ]
     },
     "metadata": {},
     "output_type": "display_data"
    }
   ],
   "source": [
    "fig = pl.figure(figsize=(10,10))\n",
    "bins = np.arange(600, 70000, 2500)\n",
    "area2005.groupby(pd.cut(area2005, bins)).agg([count_nonzero]).plot(kind='bar')\n"
   ]
  },
  {
   "cell_type": "markdown",
   "metadata": {},
   "source": [
    "# Looking at trends and correlations"
   ]
  },
  {
   "cell_type": "code",
   "execution_count": 90,
   "metadata": {
    "collapsed": false
   },
   "outputs": [
    {
     "data": {
      "text/plain": [
       "<matplotlib.legend.Legend at 0x125446690>"
      ]
     },
     "execution_count": 90,
     "metadata": {},
     "output_type": "execute_result"
    },
    {
     "data": {
      "image/png": "[encoded data removed]",
      "text/plain": [
       "<matplotlib.figure.Figure at 0x1229ec5d0>"
      ]
     },
     "metadata": {},
     "output_type": "display_data"
    }
   ],
   "source": [
    "fig = pl.figure(figsize=(20,20))\n",
    "\n",
    "pl.subplot(3,2,1)\n",
    "\n",
    "pl.loglog(area2010, fam2010, '.')\n",
    "pl.xlabel('City Area', fontsize=17)\n",
    "pl.ylabel('Family Size', fontsize=17)\n",
    "pl.legend(loc = 0, fontsize = 10)"
   ]
  },
  {
   "cell_type": "code",
   "execution_count": null,
   "metadata": {
    "collapsed": true
   },
   "outputs": [],
   "source": [
    "#Informal Economy, GDP pc\n",
    "d = {'x': area2010, 'y': tasa}\n",
    "# Run regression and print summary\n",
    "mod = smf.ols(formula='y ~ x', data = d).fit()\n",
    "print(mod.summary())"
   ]
  },
  {
   "cell_type": "markdown",
   "metadata": {},
   "source": [
    "# To do\n",
    "- Ver como estan distruibuidos los datos\n",
    "\n",
    "- Escoger pruebas de correlación\n"
   ]
  },
  {
   "cell_type": "markdown",
   "metadata": {},
   "source": [
    "# Subsidios federales"
   ]
  },
  {
   "cell_type": "code",
   "execution_count": 1,
   "metadata": {
    "collapsed": true
   },
   "outputs": [],
   "source": [
    "#ale los consigue- descargar tambien la de datos"
   ]
  },
  {
   "cell_type": "markdown",
   "metadata": {},
   "source": [
    "# Taza motorización"
   ]
  },
  {
   "cell_type": "code",
   "execution_count": 2,
   "metadata": {
    "collapsed": true
   },
   "outputs": [],
   "source": [
    "#tenemos en inegi"
   ]
  },
  {
   "cell_type": "markdown",
   "metadata": {},
   "source": [
    "# Ingreso"
   ]
  },
  {
   "cell_type": "code",
   "execution_count": 3,
   "metadata": {
    "collapsed": true
   },
   "outputs": [],
   "source": [
    "#en datos remuneraciones"
   ]
  },
  {
   "cell_type": "markdown",
   "metadata": {},
   "source": [
    "# Restricciones a la densidad \n",
    "Por ejemplo, lotes minimos estacionamiento minimo\n",
    "binario 1 o 0 \n",
    "ponderaciones\n",
    "normativa"
   ]
  },
  {
   "cell_type": "code",
   "execution_count": null,
   "metadata": {
    "collapsed": true
   },
   "outputs": [],
   "source": []
  },
  {
   "cell_type": "markdown",
   "metadata": {},
   "source": [
    "## Tamaño familiar\n",
    "De Censo Nacional de Población y Vivienda, 2010"
   ]
  },
  {
   "cell_type": "code",
   "execution_count": 17,
   "metadata": {
    "collapsed": false
   },
   "outputs": [
    {
     "data": {
      "text/html": [
       "<div>\n",
       "<table border=\"1\" class=\"dataframe\">\n",
       "  <thead>\n",
       "    <tr style=\"text-align: right;\">\n",
       "      <th></th>\n",
       "      <th>Unnamed: 0</th>\n",
       "      <th>Unnamed: 1</th>\n",
       "      <th>Unnamed: 2</th>\n",
       "      <th>Unnamed: 3</th>\n",
       "      <th>Unnamed: 4</th>\n",
       "      <th>Unnamed: 5</th>\n",
       "      <th>Unnamed: 6</th>\n",
       "      <th>Unnamed: 7</th>\n",
       "      <th>Unnamed: 8</th>\n",
       "      <th>Unnamed: 9</th>\n",
       "    </tr>\n",
       "  </thead>\n",
       "  <tbody>\n",
       "    <tr>\n",
       "      <th>0</th>\n",
       "      <td>ZM del Valle de México</td>\n",
       "      <td>NaN</td>\n",
       "      <td>NaN</td>\n",
       "      <td>NaN</td>\n",
       "      <td>NaN</td>\n",
       "      <td>^ Indice Principal</td>\n",
       "      <td>NaN</td>\n",
       "      <td>^ Indice Municipios</td>\n",
       "      <td>NaN</td>\n",
       "      <td>NaN</td>\n",
       "    </tr>\n",
       "    <tr>\n",
       "      <th>1</th>\n",
       "      <td>NaN</td>\n",
       "      <td>NaN</td>\n",
       "      <td>NaN</td>\n",
       "      <td>NaN</td>\n",
       "      <td>NaN</td>\n",
       "      <td>16 Delegaciones del Distrito Federal</td>\n",
       "      <td>NaN</td>\n",
       "      <td>NaN</td>\n",
       "      <td>NaN</td>\n",
       "      <td>NaN</td>\n",
       "    </tr>\n",
       "    <tr>\n",
       "      <th>2</th>\n",
       "      <td>NaN</td>\n",
       "      <td>NaN</td>\n",
       "      <td>NaN</td>\n",
       "      <td>NaN</td>\n",
       "      <td>NaN</td>\n",
       "      <td>1</td>\n",
       "      <td>Municipio de Hidalgo</td>\n",
       "      <td>NaN</td>\n",
       "      <td>NaN</td>\n",
       "      <td>NaN</td>\n",
       "    </tr>\n",
       "    <tr>\n",
       "      <th>3</th>\n",
       "      <td>NaN</td>\n",
       "      <td>NaN</td>\n",
       "      <td>NaN</td>\n",
       "      <td>NaN</td>\n",
       "      <td>NaN</td>\n",
       "      <td>59</td>\n",
       "      <td>Municipios del Estado de México</td>\n",
       "      <td>NaN</td>\n",
       "      <td>NaN</td>\n",
       "      <td>NaN</td>\n",
       "    </tr>\n",
       "    <tr>\n",
       "      <th>4</th>\n",
       "      <td>Viviendas particulares habitadas por número de...</td>\n",
       "      <td>NaN</td>\n",
       "      <td>NaN</td>\n",
       "      <td>NaN</td>\n",
       "      <td>NaN</td>\n",
       "      <td>Vialidades y motorización</td>\n",
       "      <td>NaN</td>\n",
       "      <td>NaN</td>\n",
       "      <td>NaN</td>\n",
       "      <td>NaN</td>\n",
       "    </tr>\n",
       "  </tbody>\n",
       "</table>\n",
       "</div>"
      ],
      "text/plain": [
       "                                          Unnamed: 0 Unnamed: 1 Unnamed: 2  \\\n",
       "0                             ZM del Valle de México        NaN        NaN   \n",
       "1                                                NaN        NaN        NaN   \n",
       "2                                                NaN        NaN        NaN   \n",
       "3                                                NaN        NaN        NaN   \n",
       "4  Viviendas particulares habitadas por número de...        NaN        NaN   \n",
       "\n",
       "  Unnamed: 3 Unnamed: 4                            Unnamed: 5  \\\n",
       "0        NaN        NaN                    ^ Indice Principal   \n",
       "1        NaN        NaN  16 Delegaciones del Distrito Federal   \n",
       "2        NaN        NaN                                     1   \n",
       "3        NaN        NaN                                    59   \n",
       "4        NaN        NaN             Vialidades y motorización   \n",
       "\n",
       "                        Unnamed: 6           Unnamed: 7 Unnamed: 8 Unnamed: 9  \n",
       "0                              NaN  ^ Indice Municipios        NaN        NaN  \n",
       "1                              NaN                  NaN        NaN        NaN  \n",
       "2             Municipio de Hidalgo                  NaN        NaN        NaN  \n",
       "3  Municipios del Estado de México                  NaN        NaN        NaN  \n",
       "4                              NaN                  NaN        NaN        NaN  "
      ]
     },
     "execution_count": 17,
     "metadata": {},
     "output_type": "execute_result"
    }
   ],
   "source": [
    "pobexp = pd.read_csv('pobexp1.csv')\n",
    "pobexp"
   ]
  },
  {
   "cell_type": "code",
   "execution_count": 19,
   "metadata": {
    "collapsed": false
   },
   "outputs": [],
   "source": [
    "import csv\n",
    "\n",
    "removal_list = set()\n",
    "with open('pobexp1.csv', 'rb') as file_b:\n",
    "    reader1 = csv.reader(file_b)\n",
    "    next(reader1)\n",
    "    for row in reader1:\n",
    "        removal_list.add((row[0], row[2]))"
   ]
  },
  {
   "cell_type": "code",
   "execution_count": 20,
   "metadata": {
    "collapsed": false
   },
   "outputs": [
    {
     "data": {
      "text/plain": [
       "<closed file 'pobexp1.csv', mode 'rb' at 0x118d7be40>"
      ]
     },
     "execution_count": 20,
     "metadata": {},
     "output_type": "execute_result"
    }
   ],
   "source": []
  },
  {
   "cell_type": "code",
   "execution_count": null,
   "metadata": {
    "collapsed": true
   },
   "outputs": [],
   "source": []
  }
 ],
 "metadata": {
  "kernelspec": {
   "display_name": "Python 2",
   "language": "python",
   "name": "python2"
  },
  "language_info": {
   "codemirror_mode": {
    "name": "ipython",
    "version": 2
   },
   "file_extension": ".py",
   "mimetype": "text/x-python",
   "name": "python",
   "nbconvert_exporter": "python",
   "pygments_lexer": "ipython2",
   "version": "2.7.11"
  }
 },
 "nbformat": 4,
 "nbformat_minor": 0
}
