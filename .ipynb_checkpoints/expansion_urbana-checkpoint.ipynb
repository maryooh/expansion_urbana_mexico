{
 "cells": [
  {
   "cell_type": "markdown",
   "metadata": {},
   "source": [
    "Investigación sobre los factores que influyen en la expansión urbana en México\n",
    "\n",
    "Como hemos mencionado, la idea es hacer un análisis de los datos que recopilaste de las 135 ciudades para analizar las siguientes correlaciones:\n",
    "\n",
    "- ¿Existe una correlación entre los subsidios federales y la expansión urbana?\n",
    "- ¿Existe una correlación entre la tasa de motorización y la expansión urbana?\n",
    "- ¿Existe una correlación entre aumento en el ingreso y la expansión urbana?\n",
    "- ¿Existe una correlación entre restricciones a la densidad y la expansión urbana?\n",
    "- ¿Existe una correlación entre el decrecimiento del tamaño familiar y la expansión urbana?\n",
    "\n",
    "Como ya comentamos, de la mayoría de las variables, es viable tener datos de 1980, 2000, 2005 y 2010, así que podríamos analizar la tendencia histórica lo más posible. El análisis nos permitirá no es solo comprobar la correlación sino identificar que tan poderosas son las variables sobre las que sí podemos tener control: subsidios federales y restricciones a la densidad. "
   ]
  },
  {
   "cell_type": "markdown",
   "metadata": {},
   "source": [
    "#To do\n",
    "- Ver como estan distruibuidos los datos\n",
    "\n",
    "- Escoger pruebas de correlación\n"
   ]
  },
  {
   "cell_type": "markdown",
   "metadata": {},
   "source": [
    "#Subsidios federales"
   ]
  },
  {
   "cell_type": "code",
   "execution_count": null,
   "metadata": {
    "collapsed": true
   },
   "outputs": [],
   "source": []
  },
  {
   "cell_type": "markdown",
   "metadata": {},
   "source": [
    "#Taza motorización"
   ]
  },
  {
   "cell_type": "code",
   "execution_count": null,
   "metadata": {
    "collapsed": true
   },
   "outputs": [],
   "source": []
  },
  {
   "cell_type": "markdown",
   "metadata": {},
   "source": [
    "#Ingreso"
   ]
  },
  {
   "cell_type": "code",
   "execution_count": null,
   "metadata": {
    "collapsed": true
   },
   "outputs": [],
   "source": []
  },
  {
   "cell_type": "markdown",
   "metadata": {},
   "source": [
    "#Densidad"
   ]
  },
  {
   "cell_type": "code",
   "execution_count": null,
   "metadata": {
    "collapsed": true
   },
   "outputs": [],
   "source": []
  },
  {
   "cell_type": "markdown",
   "metadata": {},
   "source": [
    "#Tamaño familiar"
   ]
  },
  {
   "cell_type": "code",
   "execution_count": null,
   "metadata": {
    "collapsed": true
   },
   "outputs": [],
   "source": []
  },
  {
   "cell_type": "code",
   "execution_count": null,
   "metadata": {
    "collapsed": true
   },
   "outputs": [],
   "source": []
  },
  {
   "cell_type": "code",
   "execution_count": null,
   "metadata": {
    "collapsed": true
   },
   "outputs": [],
   "source": []
  }
 ],
 "metadata": {
  "kernelspec": {
   "display_name": "Python 2",
   "language": "python",
   "name": "python2"
  },
  "language_info": {
   "codemirror_mode": {
    "name": "ipython",
    "version": 2
   },
   "file_extension": ".py",
   "mimetype": "text/x-python",
   "name": "python",
   "nbconvert_exporter": "python",
   "pygments_lexer": "ipython2",
   "version": "2.7.10"
  }
 },
 "nbformat": 4,
 "nbformat_minor": 0
}
